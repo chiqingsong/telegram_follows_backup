{
 "cells": [
  {
   "cell_type": "code",
   "execution_count": 3,
   "metadata": {},
   "outputs": [],
   "source": [
    "import json\n",
    "from telethon import TelegramClient\n",
    "import socks\n",
    "\n",
    "api_id = ''  # Please replace it with your API ID\n",
    "api_hash = ' '  # Please replace it with your API Hash\n",
    "\n",
    "async def main():\n",
    "    client = TelegramClient(\n",
    "        'sessionname'  # Fill in your sessionname, It will be set by default to 'sessionname'\n",
    "        ,api_id \n",
    "        ,api_hash\n",
    "        ,proxy=(socks.SOCKS5, '127.0.0.1', 7890) #If you need a proxy, enter the host and port number.\n",
    "    )\n",
    "\n",
    "    async with client:\n",
    "        await client.start()\n",
    "        follows_backup = []\n",
    "\n",
    "        async for dialog in client.iter_dialogs():\n",
    "            if dialog.is_channel or dialog.is_group :\n",
    "                entity = await client.get_entity(dialog.id)\n",
    "                entity.access_hash = entity.access_hash if hasattr(entity, 'access_hash') else None\n",
    "                entity.username = entity.username if hasattr(entity, 'username') else None\n",
    "\n",
    "                item = {\n",
    "                    \"name\": entity.title,\n",
    "                    \"id\": entity.id,\n",
    "                    \"access_hash\": entity.access_hash,\n",
    "                    \"type\": \"channel\" if dialog.is_channel else \"group\",\n",
    "                    \"link\": f\"https://t.me/{entity.username}\" if entity.username else \"Private or no link\" # you can change  \"Private or no link\" to whatever you like\n",
    "                }\n",
    "                follows_backup.append(item)\n",
    "                print(item)\n",
    "            \n",
    "            if dialog.is_user :\n",
    "                entity = await client.get_entity(dialog.id)\n",
    "                bot =  entity.bot\n",
    "                entity.access_hash = entity.access_hash if hasattr(entity, 'access_hash') else None\n",
    "                entity.username = entity.username if hasattr(entity, 'username') else None\n",
    "                item = {\n",
    "                    \"name\": str(entity.first_name if entity.first_name is not None else \"\") + str(entity.last_name if entity.last_name is not None else \"\"),\n",
    "                    \"id\": entity.id,\n",
    "                    \"access_hash\": entity.access_hash,\n",
    "                    \"type\": \"User\" if not bot else \"bot\",\n",
    "                    \"link\": f\"https://t.me/{entity.username}\" if entity.username else f\"The user's phone number is:{entity.phone}\" # you can change \"The user's phone number is:\" to whatever you like\n",
    "                }\n",
    "                follows_backup.append(item)\n",
    "                print(item)\n",
    "            \n",
    "        with open('follows_backup.json', 'w',encoding='utf-8') as f: # you can change \"follows_backup\" to whatever you like\n",
    "            f.write(json.dumps(follows_backup, ensure_ascii=False, indent=2))\n"
   ]
  },
  {
   "cell_type": "code",
   "execution_count": null,
   "metadata": {},
   "outputs": [],
   "source": [
    "await main()"
   ]
  }
 ],
 "metadata": {
  "kernelspec": {
   "display_name": "Python 3",
   "language": "python",
   "name": "python3"
  },
  "language_info": {
   "codemirror_mode": {
    "name": "ipython",
    "version": 3
   },
   "file_extension": ".py",
   "mimetype": "text/x-python",
   "name": "python",
   "nbconvert_exporter": "python",
   "pygments_lexer": "ipython3",
   "version": "3.12.1"
  }
 },
 "nbformat": 4,
 "nbformat_minor": 2
}
